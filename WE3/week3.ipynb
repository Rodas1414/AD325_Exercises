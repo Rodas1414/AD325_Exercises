{
 "cells": [
  {
   "cell_type": "code",
   "execution_count": 1,
   "metadata": {},
   "outputs": [
    {
     "name": "stdout",
     "output_type": "stream",
     "text": [
      "10\n",
      "-1\n"
     ]
    }
   ],
   "source": [
    "def binary_search(a, target, low=0, high=None):\n",
    "    # If high is None, it means it's the first call.\n",
    "    if high is None:\n",
    "        high = len(a) - 1\n",
    "    \n",
    "    # Base case: if low is greater than high, it means the target is not in the list.\n",
    "    if low > high:\n",
    "        return -1\n",
    "    \n",
    "    # Calculate the middle index\n",
    "    mid = (low + high) // 2\n",
    "    \n",
    "    # Check if the middle element is the target\n",
    "    if a[mid] == target:\n",
    "        return mid\n",
    "    # If the target is smaller than the middle element, search the left half\n",
    "    elif a[mid] > target:\n",
    "        return binary_search(a, target, low, mid - 1)\n",
    "    # If the target is larger than the middle element, search the right half\n",
    "    else:\n",
    "        return binary_search(a, target, mid + 1, high)\n",
    "\n",
    "# Example:\n",
    "a = [-4, 2, 7, 10, 15, 20, 22, 25, 30, 36, 42, 50, 56, 68, 85, 92, 103]\n",
    "\n",
    "index = binary_search(a, 42)   \n",
    "print(index)\n",
    "\n",
    "index = binary_search(a, 66)   \n",
    "print(index)"
   ]
  }
 ],
 "metadata": {
  "kernelspec": {
   "display_name": "Python 3",
   "language": "python",
   "name": "python3"
  },
  "language_info": {
   "codemirror_mode": {
    "name": "ipython",
    "version": 3
   },
   "file_extension": ".py",
   "mimetype": "text/x-python",
   "name": "python",
   "nbconvert_exporter": "python",
   "pygments_lexer": "ipython3",
   "version": "3.12.2"
  }
 },
 "nbformat": 4,
 "nbformat_minor": 2
}
