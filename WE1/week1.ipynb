{
 "cells": [
  {
   "cell_type": "code",
   "execution_count": null,
   "id": "771bf3dc",
   "metadata": {},
   "outputs": [],
   "source": [
    "Question 1"
   ]
  },
  {
   "cell_type": "code",
   "execution_count": 1,
   "id": "2b8748ba-9981-44fc-ad5c-b0bee9e41131",
   "metadata": {},
   "outputs": [],
   "source": [
    "class BankAccount:\n",
    "    def __init__(self, name):\n",
    "        self._name = name\n",
    "        self._balance = 0.0\n",
    "\n",
    "    @property\n",
    "    def name(self):\n",
    "        return self._name\n",
    "\n",
    "    @property\n",
    "    def balance(self):\n",
    "        return self._balance\n",
    "\n",
    "    def deposit(self, amount):\n",
    "        if amount > 0:\n",
    "            self._balance += amount\n",
    "\n",
    "    def withdraw(self, amount):\n",
    "        if 0 <= amount <= self._balance:\n",
    "            self._balance -= amount\n"
   ]
  },
  {
   "cell_type": "code",
   "execution_count": null,
   "id": "fd16ab5e",
   "metadata": {},
   "outputs": [],
   "source": [
    "\n",
    "print(\"=== Testing BankAccount (Q1) ===\")\n",
    "acct1 = BankAccount(\"Rodas\")\n",
    "acct1.deposit(200)\n",
    "acct1.withdraw(50)\n",
    "print(f\"Account holder: {acct1.name}\")\n",
    "print(f\"Expected balance: 150.00 | Actual balance: {acct1.balance:.2f}\")\n"
   ]
  },
  {
   "cell_type": "code",
   "execution_count": null,
   "id": "090dfd0d",
   "metadata": {},
   "outputs": [],
   "source": [
    " Question 2"
   ]
  },
  {
   "cell_type": "code",
   "execution_count": 2,
   "id": "d0c5acd1-8008-4c29-9665-df7b2c237268",
   "metadata": {},
   "outputs": [],
   "source": [
    "class BankAccount:\n",
    "    def __init__(self, name):\n",
    "        self._name = name\n",
    "        self._balance = 0.0\n",
    "        self._transaction_fee = 0.0\n",
    "\n",
    "    @property\n",
    "    def name(self):\n",
    "        return self._name\n",
    "\n",
    "    @property\n",
    "    def balance(self):\n",
    "        return self._balance\n",
    "\n",
    "    @property\n",
    "    def transaction_fee(self):\n",
    "        return self._transaction_fee\n",
    "\n",
    "    @transaction_fee.setter\n",
    "    def transaction_fee(self, fee):\n",
    "        if fee >= 0:\n",
    "            self._transaction_fee = fee\n",
    "        # if negative, do nothing\n",
    "\n",
    "    def deposit(self, amount):\n",
    "        if amount > 0:\n",
    "            self._balance += amount\n",
    "\n",
    "    def withdraw(self, amount):\n",
    "        total = amount + self._transaction_fee\n",
    "        if amount >= 0 and total <= self._balance:\n",
    "            self._balance -= total\n"
   ]
  },
  {
   "cell_type": "code",
   "execution_count": null,
   "id": "302cd094",
   "metadata": {},
   "outputs": [],
   "source": [
    "\n",
    "print(\"\\n=== Testing BankAccount with Fee (Q2) ===\")\n",
    "acct2 = BankAccount(\"Rodas\")\n",
    "acct2.deposit(100)\n",
    "acct2.transaction_fee = 2\n",
    "acct2.withdraw(20)\n",
    "print(f\"Expected balance: 78.00 | Actual balance: {acct2.balance:.2f}\")\n"
   ]
  },
  {
   "cell_type": "code",
   "execution_count": null,
   "id": "3001a65d",
   "metadata": {},
   "outputs": [],
   "source": [
    "Question 3"
   ]
  },
  {
   "cell_type": "code",
   "execution_count": 3,
   "id": "e08f7278-2cd5-41e5-b991-c490caa8128c",
   "metadata": {},
   "outputs": [],
   "source": [
    "def __str__(self):\n",
    "    return f\"{self._name}, ${self._balance:.2f}\"\n"
   ]
  },
  {
   "cell_type": "code",
   "execution_count": null,
   "id": "df1a3f8b",
   "metadata": {},
   "outputs": [],
   "source": [
    "\n",
    "print(\"\\n=== Testing __str__ method (Q3) ===\")\n",
    "acct3 = BankAccount(\"Rodas\", 250.75)\n",
    "print(str(acct3))  # Expected: \"Rodas, $250.75\"\n"
   ]
  },
  {
   "cell_type": "code",
   "execution_count": null,
   "id": "ae49c5c4",
   "metadata": {},
   "outputs": [],
   "source": [
    "Question 4"
   ]
  },
  {
   "cell_type": "code",
   "execution_count": 4,
   "id": "418aa507-7ff4-4665-9ce1-f439744951b9",
   "metadata": {},
   "outputs": [],
   "source": [
    "def factorial(n):\n",
    "    if n == 0 or n == 1:\n",
    "        return 1\n",
    "    else:\n",
    "        return n * factorial(n - 1)\n"
   ]
  },
  {
   "cell_type": "code",
   "execution_count": null,
   "id": "3e4bf6f4-e3da-4968-87d0-98dfc4543379",
   "metadata": {},
   "outputs": [],
   "source": [
    "\n",
    "print(\"\\n=== Testing factorial (Q4) ===\")\n",
    "print(f\"factorial(0) = {factorial(0)}  (expected 1)\")\n",
    "print(f\"factorial(1) = {factorial(1)}  (expected 1)\")\n",
    "print(f\"factorial(5) = {factorial(5)}  (expected 120)\")\n"
   ]
  }
 ],
 "metadata": {
  "kernelspec": {
   "display_name": "Python 3 (ipykernel)",
   "language": "python",
   "name": "python3"
  },
  "language_info": {
   "codemirror_mode": {
    "name": "ipython",
    "version": 3
   },
   "file_extension": ".py",
   "mimetype": "text/x-python",
   "name": "python",
   "nbconvert_exporter": "python",
   "pygments_lexer": "ipython3",
   "version": "3.12.2"
  }
 },
 "nbformat": 4,
 "nbformat_minor": 5
}
