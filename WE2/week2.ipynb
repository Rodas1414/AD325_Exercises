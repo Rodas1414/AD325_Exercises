{
 "cells": [
  {
   "cell_type": "code",
   "execution_count": 1,
   "metadata": {},
   "outputs": [],
   "source": [
    "def count_duplicates(nums):\n",
    "    seen = set()      \n",
    "    \n",
    "    for num in nums:\n",
    "        if num in seen:\n",
    "            duplicates += 1  \n",
    "        else:\n",
    "            seen.add(num)    \n",
    "    return duplicates\n",
    "\n",
    "\n",
    "\n",
    "\n"
   ]
  },
  {
   "cell_type": "code",
   "execution_count": 3,
   "metadata": {},
   "outputs": [],
   "source": [
    "def is_stack_sorted(stack):\n",
    "    temp = []\n",
    "    if len(stack) <= 1:\n",
    "        return True\n",
    "\n",
    "    is_sorted = True\n",
    "\n",
    "    \n",
    "    prev = stack.pop()\n",
    "    temp.append(prev)\n",
    "\n",
    "    while len(stack) > 0:\n",
    "        curr = stack.pop()\n",
    "        temp.append(curr)\n",
    "\n",
    "        \n",
    "        if curr < prev:\n",
    "            is_sorted = False\n",
    "        prev = curr\n",
    "\n",
    "    \n",
    "    while len(temp) > 0:\n",
    "        stack.append(temp.pop())\n",
    "\n",
    "    return is_sorted"
   ]
  },
  {
   "cell_type": "code",
   "execution_count": 2,
   "metadata": {},
   "outputs": [],
   "source": [
    "def median(numbers):\n",
    "  \n",
    "    sorted_list = sorted(numbers)\n",
    "    \n",
    "   \n",
    "    mid_index = len(sorted_list) // 2\n",
    "    \n",
    " \n",
    "    return sorted_list[mid_index]\n"
   ]
  }
 ],
 "metadata": {
  "kernelspec": {
   "display_name": "Python 3",
   "language": "python",
   "name": "python3"
  },
  "language_info": {
   "codemirror_mode": {
    "name": "ipython",
    "version": 3
   },
   "file_extension": ".py",
   "mimetype": "text/x-python",
   "name": "python",
   "nbconvert_exporter": "python",
   "pygments_lexer": "ipython3",
   "version": "3.12.2"
  }
 },
 "nbformat": 4,
 "nbformat_minor": 2
}
